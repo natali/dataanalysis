{
 "cells": [
  {
   "cell_type": "markdown",
   "metadata": {},
   "source": [
    "Hi class, for this evening we'll spend 40 mins doing hands-on work, and your task is to assume the role of an investor / venture capital analyzing fundraising records of startups (data by techcrunch). I'll reveal the dataset at the beginning of the class. Here are the questions to guide your analysis:\n",
    "\n",
    "1. How many rows / columns do we have in the dataset?\n",
    "2. How many startup funding has there been in California vs that of New York? (tip: value_counts())\n",
    "3. Using describe(), what is the average size of funding (raised amount)?\n",
    "4. Using describe(), what is the standard deviation in the size of funding (raised amount)?\n",
    "5. What is the largest fundraising in the database? In which company was that? \n",
    "\n",
    "You'll do this together and add a few more techniques under our belt as a revision. We will all start with a blank notebook and starting from scratch (import libraries, read_csv, and then work through the questions) we'll build up our analysis notebook sequentially.\n"
   ]
  },
  {
   "cell_type": "code",
   "execution_count": 3,
   "metadata": {},
   "outputs": [
    {
     "data": {
      "text/html": [
       "<div>\n",
       "<style scoped>\n",
       "    .dataframe tbody tr th:only-of-type {\n",
       "        vertical-align: middle;\n",
       "    }\n",
       "\n",
       "    .dataframe tbody tr th {\n",
       "        vertical-align: top;\n",
       "    }\n",
       "\n",
       "    .dataframe thead th {\n",
       "        text-align: right;\n",
       "    }\n",
       "</style>\n",
       "<table border=\"1\" class=\"dataframe\">\n",
       "  <thead>\n",
       "    <tr style=\"text-align: right;\">\n",
       "      <th></th>\n",
       "      <th>company</th>\n",
       "      <th>numEmps</th>\n",
       "      <th>category</th>\n",
       "      <th>city</th>\n",
       "      <th>state</th>\n",
       "      <th>fundedDate</th>\n",
       "      <th>raisedAmt</th>\n",
       "      <th>raisedCurrency</th>\n",
       "      <th>round</th>\n",
       "    </tr>\n",
       "    <tr>\n",
       "      <th>permalink</th>\n",
       "      <th></th>\n",
       "      <th></th>\n",
       "      <th></th>\n",
       "      <th></th>\n",
       "      <th></th>\n",
       "      <th></th>\n",
       "      <th></th>\n",
       "      <th></th>\n",
       "      <th></th>\n",
       "    </tr>\n",
       "  </thead>\n",
       "  <tbody>\n",
       "    <tr>\n",
       "      <th>lifelock</th>\n",
       "      <td>LifeLock</td>\n",
       "      <td>NaN</td>\n",
       "      <td>web</td>\n",
       "      <td>Tempe</td>\n",
       "      <td>AZ</td>\n",
       "      <td>1-May-07</td>\n",
       "      <td>6850000</td>\n",
       "      <td>USD</td>\n",
       "      <td>b</td>\n",
       "    </tr>\n",
       "    <tr>\n",
       "      <th>lifelock</th>\n",
       "      <td>LifeLock</td>\n",
       "      <td>NaN</td>\n",
       "      <td>web</td>\n",
       "      <td>Tempe</td>\n",
       "      <td>AZ</td>\n",
       "      <td>1-Oct-06</td>\n",
       "      <td>6000000</td>\n",
       "      <td>USD</td>\n",
       "      <td>a</td>\n",
       "    </tr>\n",
       "    <tr>\n",
       "      <th>lifelock</th>\n",
       "      <td>LifeLock</td>\n",
       "      <td>NaN</td>\n",
       "      <td>web</td>\n",
       "      <td>Tempe</td>\n",
       "      <td>AZ</td>\n",
       "      <td>1-Jan-08</td>\n",
       "      <td>25000000</td>\n",
       "      <td>USD</td>\n",
       "      <td>c</td>\n",
       "    </tr>\n",
       "    <tr>\n",
       "      <th>mycityfaces</th>\n",
       "      <td>MyCityFaces</td>\n",
       "      <td>7.0</td>\n",
       "      <td>web</td>\n",
       "      <td>Scottsdale</td>\n",
       "      <td>AZ</td>\n",
       "      <td>1-Jan-08</td>\n",
       "      <td>50000</td>\n",
       "      <td>USD</td>\n",
       "      <td>seed</td>\n",
       "    </tr>\n",
       "    <tr>\n",
       "      <th>flypaper</th>\n",
       "      <td>Flypaper</td>\n",
       "      <td>NaN</td>\n",
       "      <td>web</td>\n",
       "      <td>Phoenix</td>\n",
       "      <td>AZ</td>\n",
       "      <td>1-Feb-08</td>\n",
       "      <td>3000000</td>\n",
       "      <td>USD</td>\n",
       "      <td>a</td>\n",
       "    </tr>\n",
       "  </tbody>\n",
       "</table>\n",
       "</div>"
      ],
      "text/plain": [
       "                 company  numEmps category        city state fundedDate  \\\n",
       "permalink                                                                 \n",
       "lifelock        LifeLock      NaN      web       Tempe    AZ   1-May-07   \n",
       "lifelock        LifeLock      NaN      web       Tempe    AZ   1-Oct-06   \n",
       "lifelock        LifeLock      NaN      web       Tempe    AZ   1-Jan-08   \n",
       "mycityfaces  MyCityFaces      7.0      web  Scottsdale    AZ   1-Jan-08   \n",
       "flypaper        Flypaper      NaN      web     Phoenix    AZ   1-Feb-08   \n",
       "\n",
       "             raisedAmt raisedCurrency round  \n",
       "permalink                                    \n",
       "lifelock       6850000            USD     b  \n",
       "lifelock       6000000            USD     a  \n",
       "lifelock      25000000            USD     c  \n",
       "mycityfaces      50000            USD  seed  \n",
       "flypaper       3000000            USD     a  "
      ]
     },
     "execution_count": 3,
     "metadata": {},
     "output_type": "execute_result"
    }
   ],
   "source": [
    "import pandas as pd\n",
    "tc = pd.read_csv(\"data_input/techcrunch.csv\", index_col=0)\n",
    "tc.head()"
   ]
  },
  {
   "cell_type": "code",
   "execution_count": 4,
   "metadata": {},
   "outputs": [
    {
     "name": "stdout",
     "output_type": "stream",
     "text": [
      "The dimension of the data is (1460, 9)\n"
     ]
    }
   ],
   "source": [
    "print(f'The dimension of the data is {tc.shape}')\n"
   ]
  },
  {
   "cell_type": "code",
   "execution_count": 5,
   "metadata": {},
   "outputs": [
    {
     "name": "stdout",
     "output_type": "stream",
     "text": [
      "The size of the data is 13140\n"
     ]
    }
   ],
   "source": [
    "print(f'The size of the data is {tc.size}')"
   ]
  },
  {
   "cell_type": "code",
   "execution_count": 6,
   "metadata": {},
   "outputs": [
    {
     "data": {
      "text/plain": [
       "count      0.001460\n",
       "mean      10.131488\n",
       "std       18.661462\n",
       "min        0.006000\n",
       "25%        2.000000\n",
       "50%        5.500000\n",
       "75%       11.025000\n",
       "max      300.000000\n",
       "Name: raisedAmt, dtype: float64"
      ]
     },
     "execution_count": 6,
     "metadata": {},
     "output_type": "execute_result"
    }
   ],
   "source": [
    "tc['raisedAmt'].describe()/1000000"
   ]
  },
  {
   "cell_type": "code",
   "execution_count": 7,
   "metadata": {},
   "outputs": [
    {
     "data": {
      "text/plain": [
       "San Francisco    228\n",
       "New York          93\n",
       "Mountain View     89\n",
       "Palo Alto         78\n",
       "Seattle           75\n",
       "Name: city, dtype: int64"
      ]
     },
     "execution_count": 7,
     "metadata": {},
     "output_type": "execute_result"
    }
   ],
   "source": [
    "tc.city.value_counts().head(5)"
   ]
  },
  {
   "cell_type": "code",
   "execution_count": 8,
   "metadata": {},
   "outputs": [
    {
     "data": {
      "text/plain": [
       "10.1314875"
      ]
     },
     "execution_count": 8,
     "metadata": {},
     "output_type": "execute_result"
    }
   ],
   "source": [
    "tc['raisedAmt'].mean()/1000000"
   ]
  },
  {
   "cell_type": "code",
   "execution_count": 9,
   "metadata": {},
   "outputs": [
    {
     "data": {
      "text/plain": [
       "18.66146188901684"
      ]
     },
     "execution_count": 9,
     "metadata": {},
     "output_type": "execute_result"
    }
   ],
   "source": [
    "tc['raisedAmt'].std()/1000000"
   ]
  },
  {
   "cell_type": "code",
   "execution_count": 10,
   "metadata": {},
   "outputs": [
    {
     "data": {
      "text/plain": [
       "300000000"
      ]
     },
     "execution_count": 10,
     "metadata": {},
     "output_type": "execute_result"
    }
   ],
   "source": [
    "tc.raisedAmt.max()"
   ]
  },
  {
   "cell_type": "code",
   "execution_count": 11,
   "metadata": {
    "scrolled": true
   },
   "outputs": [
    {
     "data": {
      "text/html": [
       "<div>\n",
       "<style scoped>\n",
       "    .dataframe tbody tr th:only-of-type {\n",
       "        vertical-align: middle;\n",
       "    }\n",
       "\n",
       "    .dataframe tbody tr th {\n",
       "        vertical-align: top;\n",
       "    }\n",
       "\n",
       "    .dataframe thead th {\n",
       "        text-align: right;\n",
       "    }\n",
       "</style>\n",
       "<table border=\"1\" class=\"dataframe\">\n",
       "  <thead>\n",
       "    <tr style=\"text-align: right;\">\n",
       "      <th></th>\n",
       "      <th>company</th>\n",
       "      <th>numEmps</th>\n",
       "      <th>category</th>\n",
       "      <th>city</th>\n",
       "      <th>state</th>\n",
       "      <th>fundedDate</th>\n",
       "      <th>raisedAmt</th>\n",
       "      <th>raisedCurrency</th>\n",
       "      <th>round</th>\n",
       "    </tr>\n",
       "    <tr>\n",
       "      <th>permalink</th>\n",
       "      <th></th>\n",
       "      <th></th>\n",
       "      <th></th>\n",
       "      <th></th>\n",
       "      <th></th>\n",
       "      <th></th>\n",
       "      <th></th>\n",
       "      <th></th>\n",
       "      <th></th>\n",
       "    </tr>\n",
       "  </thead>\n",
       "  <tbody>\n",
       "    <tr>\n",
       "      <th>facebook</th>\n",
       "      <td>Facebook</td>\n",
       "      <td>450.0</td>\n",
       "      <td>web</td>\n",
       "      <td>Palo Alto</td>\n",
       "      <td>CA</td>\n",
       "      <td>1-Oct-07</td>\n",
       "      <td>300000000</td>\n",
       "      <td>USD</td>\n",
       "      <td>c</td>\n",
       "    </tr>\n",
       "    <tr>\n",
       "      <th>zenimax</th>\n",
       "      <td>ZeniMax</td>\n",
       "      <td>NaN</td>\n",
       "      <td>web</td>\n",
       "      <td>Rockville</td>\n",
       "      <td>MD</td>\n",
       "      <td>1-Oct-07</td>\n",
       "      <td>300000000</td>\n",
       "      <td>USD</td>\n",
       "      <td>a</td>\n",
       "    </tr>\n",
       "  </tbody>\n",
       "</table>\n",
       "</div>"
      ],
      "text/plain": [
       "            company  numEmps category       city state fundedDate  raisedAmt  \\\n",
       "permalink                                                                      \n",
       "facebook   Facebook    450.0      web  Palo Alto    CA   1-Oct-07  300000000   \n",
       "zenimax     ZeniMax      NaN      web  Rockville    MD   1-Oct-07  300000000   \n",
       "\n",
       "          raisedCurrency round  \n",
       "permalink                       \n",
       "facebook             USD     c  \n",
       "zenimax              USD     a  "
      ]
     },
     "execution_count": 11,
     "metadata": {},
     "output_type": "execute_result"
    }
   ],
   "source": [
    "condition = tc.raisedAmt == tc.raisedAmt.max()\n",
    "tc.loc[condition, :]"
   ]
  },
  {
   "cell_type": "markdown",
   "metadata": {},
   "source": [
    "1. Compare: `sum(tc.numEmps)` to `tc.numEmps.sum()`: what's the difference? Why? \n",
    "2. Use the square bracket indexing `dat['col_selected']` and compute a frequency table (`.value_counts`) on the `raisedCurrency` column. Are there any other currency apart from USD, used in the fundraising dataset?\n",
    "3. Perform a conditional subsetting (boolean indexing) using the syntax: `dat[cond1]`. Chain it with `.tail()` so as not to print the full returned result \n",
    "4. Create a condition, then use the condition to subset for rows where `company` is `Tesla Motors`. Pass this condition the way you did in (3) to perform the boolean indexing, but return only the following columns: `round`, `company`, `raisedCurrency` and `raisedAmt`. Use `.loc` so you can specify **column selection by label**.\n",
    "5. Use `.iloc` to select the first 10 rows and only the first 5 columns in the DataFrame.\n",
    "6. Go back to (4), on the resulting DataFrame, chain the `.sort_values('round')` method at the end to sort the data frame by the values in `round`."
   ]
  },
  {
   "cell_type": "code",
   "execution_count": 12,
   "metadata": {},
   "outputs": [
    {
     "data": {
      "text/plain": [
       "nan"
      ]
     },
     "execution_count": 12,
     "metadata": {},
     "output_type": "execute_result"
    }
   ],
   "source": [
    "sum(tc.numEmps)"
   ]
  },
  {
   "cell_type": "code",
   "execution_count": 13,
   "metadata": {},
   "outputs": [
    {
     "data": {
      "text/plain": [
       "54274.0"
      ]
     },
     "execution_count": 13,
     "metadata": {},
     "output_type": "execute_result"
    }
   ],
   "source": [
    "tc.numEmps.sum()"
   ]
  },
  {
   "cell_type": "markdown",
   "metadata": {},
   "source": [
    "sum(tc.numEmps) is basically trying to sum to object, which is not a number, whilst tc.numEmps.sum() mean\n"
   ]
  },
  {
   "cell_type": "code",
   "execution_count": 14,
   "metadata": {},
   "outputs": [
    {
     "data": {
      "text/plain": [
       "USD    1458\n",
       "CAD       1\n",
       "EUR       1\n",
       "Name: raisedCurrency, dtype: int64"
      ]
     },
     "execution_count": 14,
     "metadata": {},
     "output_type": "execute_result"
    }
   ],
   "source": [
    "tc['raisedCurrency'].value_counts()"
   ]
  },
  {
   "cell_type": "code",
   "execution_count": 33,
   "metadata": {
    "scrolled": false
   },
   "outputs": [
    {
     "data": {
      "text/html": [
       "<div>\n",
       "<style scoped>\n",
       "    .dataframe tbody tr th:only-of-type {\n",
       "        vertical-align: middle;\n",
       "    }\n",
       "\n",
       "    .dataframe tbody tr th {\n",
       "        vertical-align: top;\n",
       "    }\n",
       "\n",
       "    .dataframe thead th {\n",
       "        text-align: right;\n",
       "    }\n",
       "</style>\n",
       "<table border=\"1\" class=\"dataframe\">\n",
       "  <thead>\n",
       "    <tr style=\"text-align: right;\">\n",
       "      <th></th>\n",
       "      <th>company</th>\n",
       "      <th>numEmps</th>\n",
       "      <th>category</th>\n",
       "      <th>city</th>\n",
       "      <th>state</th>\n",
       "      <th>fundedDate</th>\n",
       "      <th>raisedAmt</th>\n",
       "      <th>raisedCurrency</th>\n",
       "      <th>round</th>\n",
       "    </tr>\n",
       "    <tr>\n",
       "      <th>permalink</th>\n",
       "      <th></th>\n",
       "      <th></th>\n",
       "      <th></th>\n",
       "      <th></th>\n",
       "      <th></th>\n",
       "      <th></th>\n",
       "      <th></th>\n",
       "      <th></th>\n",
       "      <th></th>\n",
       "    </tr>\n",
       "  </thead>\n",
       "  <tbody>\n",
       "    <tr>\n",
       "      <th>loladex</th>\n",
       "      <td>Loladex</td>\n",
       "      <td>2.0</td>\n",
       "      <td>web</td>\n",
       "      <td>Leesburg</td>\n",
       "      <td>VA</td>\n",
       "      <td>1-Nov-07</td>\n",
       "      <td>350000</td>\n",
       "      <td>USD</td>\n",
       "      <td>seed</td>\n",
       "    </tr>\n",
       "    <tr>\n",
       "      <th>yapta</th>\n",
       "      <td>Yapta</td>\n",
       "      <td>NaN</td>\n",
       "      <td>web</td>\n",
       "      <td>Seattle</td>\n",
       "      <td>WA</td>\n",
       "      <td>1-Jul-07</td>\n",
       "      <td>700000</td>\n",
       "      <td>USD</td>\n",
       "      <td>seed</td>\n",
       "    </tr>\n",
       "    <tr>\n",
       "      <th>eyejot</th>\n",
       "      <td>EyeJot</td>\n",
       "      <td>5.0</td>\n",
       "      <td>web</td>\n",
       "      <td>Seattle</td>\n",
       "      <td>WA</td>\n",
       "      <td>1-May-07</td>\n",
       "      <td>750000</td>\n",
       "      <td>USD</td>\n",
       "      <td>seed</td>\n",
       "    </tr>\n",
       "    <tr>\n",
       "      <th>rescuetime</th>\n",
       "      <td>RescueTime</td>\n",
       "      <td>NaN</td>\n",
       "      <td>web</td>\n",
       "      <td>Seattle</td>\n",
       "      <td>WA</td>\n",
       "      <td>14-Oct-07</td>\n",
       "      <td>20000</td>\n",
       "      <td>USD</td>\n",
       "      <td>seed</td>\n",
       "    </tr>\n",
       "    <tr>\n",
       "      <th>delve-networks</th>\n",
       "      <td>Delve Networks</td>\n",
       "      <td>NaN</td>\n",
       "      <td>web</td>\n",
       "      <td>Seattle</td>\n",
       "      <td>WA</td>\n",
       "      <td>1-Dec-06</td>\n",
       "      <td>1650000</td>\n",
       "      <td>USD</td>\n",
       "      <td>seed</td>\n",
       "    </tr>\n",
       "  </tbody>\n",
       "</table>\n",
       "</div>"
      ],
      "text/plain": [
       "                       company  numEmps category      city state fundedDate  \\\n",
       "permalink                                                                     \n",
       "loladex                Loladex      2.0      web  Leesburg    VA   1-Nov-07   \n",
       "yapta                    Yapta      NaN      web   Seattle    WA   1-Jul-07   \n",
       "eyejot                  EyeJot      5.0      web   Seattle    WA   1-May-07   \n",
       "rescuetime          RescueTime      NaN      web   Seattle    WA  14-Oct-07   \n",
       "delve-networks  Delve Networks      NaN      web   Seattle    WA   1-Dec-06   \n",
       "\n",
       "                raisedAmt raisedCurrency round  \n",
       "permalink                                       \n",
       "loladex            350000            USD  seed  \n",
       "yapta              700000            USD  seed  \n",
       "eyejot             750000            USD  seed  \n",
       "rescuetime          20000            USD  seed  \n",
       "delve-networks    1650000            USD  seed  "
      ]
     },
     "execution_count": 33,
     "metadata": {},
     "output_type": "execute_result"
    }
   ],
   "source": [
    "cond1 = (tc['round'] == 'seed')\n",
    "tc[cond1].tail()"
   ]
  },
  {
   "cell_type": "code",
   "execution_count": 34,
   "metadata": {},
   "outputs": [
    {
     "data": {
      "text/html": [
       "<div>\n",
       "<style scoped>\n",
       "    .dataframe tbody tr th:only-of-type {\n",
       "        vertical-align: middle;\n",
       "    }\n",
       "\n",
       "    .dataframe tbody tr th {\n",
       "        vertical-align: top;\n",
       "    }\n",
       "\n",
       "    .dataframe thead th {\n",
       "        text-align: right;\n",
       "    }\n",
       "</style>\n",
       "<table border=\"1\" class=\"dataframe\">\n",
       "  <thead>\n",
       "    <tr style=\"text-align: right;\">\n",
       "      <th></th>\n",
       "      <th>company</th>\n",
       "      <th>numEmps</th>\n",
       "      <th>category</th>\n",
       "      <th>city</th>\n",
       "      <th>state</th>\n",
       "      <th>fundedDate</th>\n",
       "      <th>raisedAmt</th>\n",
       "      <th>raisedCurrency</th>\n",
       "      <th>round</th>\n",
       "    </tr>\n",
       "    <tr>\n",
       "      <th>permalink</th>\n",
       "      <th></th>\n",
       "      <th></th>\n",
       "      <th></th>\n",
       "      <th></th>\n",
       "      <th></th>\n",
       "      <th></th>\n",
       "      <th></th>\n",
       "      <th></th>\n",
       "      <th></th>\n",
       "    </tr>\n",
       "  </thead>\n",
       "  <tbody>\n",
       "    <tr>\n",
       "      <th>yapta</th>\n",
       "      <td>Yapta</td>\n",
       "      <td>NaN</td>\n",
       "      <td>web</td>\n",
       "      <td>Seattle</td>\n",
       "      <td>WA</td>\n",
       "      <td>1-Jul-07</td>\n",
       "      <td>700000</td>\n",
       "      <td>USD</td>\n",
       "      <td>seed</td>\n",
       "    </tr>\n",
       "    <tr>\n",
       "      <th>eyejot</th>\n",
       "      <td>EyeJot</td>\n",
       "      <td>5.0</td>\n",
       "      <td>web</td>\n",
       "      <td>Seattle</td>\n",
       "      <td>WA</td>\n",
       "      <td>1-May-07</td>\n",
       "      <td>750000</td>\n",
       "      <td>USD</td>\n",
       "      <td>seed</td>\n",
       "    </tr>\n",
       "    <tr>\n",
       "      <th>rescuetime</th>\n",
       "      <td>RescueTime</td>\n",
       "      <td>NaN</td>\n",
       "      <td>web</td>\n",
       "      <td>Seattle</td>\n",
       "      <td>WA</td>\n",
       "      <td>14-Oct-07</td>\n",
       "      <td>20000</td>\n",
       "      <td>USD</td>\n",
       "      <td>seed</td>\n",
       "    </tr>\n",
       "    <tr>\n",
       "      <th>delve-networks</th>\n",
       "      <td>Delve Networks</td>\n",
       "      <td>NaN</td>\n",
       "      <td>web</td>\n",
       "      <td>Seattle</td>\n",
       "      <td>WA</td>\n",
       "      <td>1-Dec-06</td>\n",
       "      <td>1650000</td>\n",
       "      <td>USD</td>\n",
       "      <td>seed</td>\n",
       "    </tr>\n",
       "  </tbody>\n",
       "</table>\n",
       "</div>"
      ],
      "text/plain": [
       "                       company  numEmps category     city state fundedDate  \\\n",
       "permalink                                                                    \n",
       "yapta                    Yapta      NaN      web  Seattle    WA   1-Jul-07   \n",
       "eyejot                  EyeJot      5.0      web  Seattle    WA   1-May-07   \n",
       "rescuetime          RescueTime      NaN      web  Seattle    WA  14-Oct-07   \n",
       "delve-networks  Delve Networks      NaN      web  Seattle    WA   1-Dec-06   \n",
       "\n",
       "                raisedAmt raisedCurrency round  \n",
       "permalink                                       \n",
       "yapta              700000            USD  seed  \n",
       "eyejot             750000            USD  seed  \n",
       "rescuetime          20000            USD  seed  \n",
       "delve-networks    1650000            USD  seed  "
      ]
     },
     "execution_count": 34,
     "metadata": {},
     "output_type": "execute_result"
    }
   ],
   "source": [
    "cond1 = (tc['round'] == 'seed')\n",
    "cond2 = (tc['city'] == 'Seattle')\n",
    "tc[(cond1) & (cond2)].tail()"
   ]
  },
  {
   "cell_type": "code",
   "execution_count": 28,
   "metadata": {},
   "outputs": [
    {
     "data": {
      "text/html": [
       "<div>\n",
       "<style scoped>\n",
       "    .dataframe tbody tr th:only-of-type {\n",
       "        vertical-align: middle;\n",
       "    }\n",
       "\n",
       "    .dataframe tbody tr th {\n",
       "        vertical-align: top;\n",
       "    }\n",
       "\n",
       "    .dataframe thead th {\n",
       "        text-align: right;\n",
       "    }\n",
       "</style>\n",
       "<table border=\"1\" class=\"dataframe\">\n",
       "  <thead>\n",
       "    <tr style=\"text-align: right;\">\n",
       "      <th></th>\n",
       "      <th>round</th>\n",
       "      <th>company</th>\n",
       "      <th>raisedCurrency</th>\n",
       "      <th>raisedAmt</th>\n",
       "    </tr>\n",
       "    <tr>\n",
       "      <th>permalink</th>\n",
       "      <th></th>\n",
       "      <th></th>\n",
       "      <th></th>\n",
       "      <th></th>\n",
       "    </tr>\n",
       "  </thead>\n",
       "  <tbody>\n",
       "    <tr>\n",
       "      <th>tesla-motors</th>\n",
       "      <td>c</td>\n",
       "      <td>Tesla Motors</td>\n",
       "      <td>USD</td>\n",
       "      <td>40000000</td>\n",
       "    </tr>\n",
       "    <tr>\n",
       "      <th>tesla-motors</th>\n",
       "      <td>d</td>\n",
       "      <td>Tesla Motors</td>\n",
       "      <td>USD</td>\n",
       "      <td>45000000</td>\n",
       "    </tr>\n",
       "    <tr>\n",
       "      <th>tesla-motors</th>\n",
       "      <td>a</td>\n",
       "      <td>Tesla Motors</td>\n",
       "      <td>USD</td>\n",
       "      <td>7500000</td>\n",
       "    </tr>\n",
       "    <tr>\n",
       "      <th>tesla-motors</th>\n",
       "      <td>b</td>\n",
       "      <td>Tesla Motors</td>\n",
       "      <td>USD</td>\n",
       "      <td>13000000</td>\n",
       "    </tr>\n",
       "    <tr>\n",
       "      <th>tesla-motors</th>\n",
       "      <td>e</td>\n",
       "      <td>Tesla Motors</td>\n",
       "      <td>USD</td>\n",
       "      <td>40000000</td>\n",
       "    </tr>\n",
       "  </tbody>\n",
       "</table>\n",
       "</div>"
      ],
      "text/plain": [
       "             round       company raisedCurrency  raisedAmt\n",
       "permalink                                                 \n",
       "tesla-motors     c  Tesla Motors            USD   40000000\n",
       "tesla-motors     d  Tesla Motors            USD   45000000\n",
       "tesla-motors     a  Tesla Motors            USD    7500000\n",
       "tesla-motors     b  Tesla Motors            USD   13000000\n",
       "tesla-motors     e  Tesla Motors            USD   40000000"
      ]
     },
     "execution_count": 28,
     "metadata": {},
     "output_type": "execute_result"
    }
   ],
   "source": [
    "tc[(tc.company == 'Tesla Motors')].loc[:, ['round', 'company', 'raisedCurrency', 'raisedAmt']]\n"
   ]
  },
  {
   "cell_type": "code",
   "execution_count": 26,
   "metadata": {
    "scrolled": true
   },
   "outputs": [
    {
     "data": {
      "text/html": [
       "<div>\n",
       "<style scoped>\n",
       "    .dataframe tbody tr th:only-of-type {\n",
       "        vertical-align: middle;\n",
       "    }\n",
       "\n",
       "    .dataframe tbody tr th {\n",
       "        vertical-align: top;\n",
       "    }\n",
       "\n",
       "    .dataframe thead th {\n",
       "        text-align: right;\n",
       "    }\n",
       "</style>\n",
       "<table border=\"1\" class=\"dataframe\">\n",
       "  <thead>\n",
       "    <tr style=\"text-align: right;\">\n",
       "      <th></th>\n",
       "      <th>company</th>\n",
       "      <th>numEmps</th>\n",
       "      <th>category</th>\n",
       "      <th>city</th>\n",
       "      <th>state</th>\n",
       "    </tr>\n",
       "    <tr>\n",
       "      <th>permalink</th>\n",
       "      <th></th>\n",
       "      <th></th>\n",
       "      <th></th>\n",
       "      <th></th>\n",
       "      <th></th>\n",
       "    </tr>\n",
       "  </thead>\n",
       "  <tbody>\n",
       "    <tr>\n",
       "      <th>lifelock</th>\n",
       "      <td>LifeLock</td>\n",
       "      <td>NaN</td>\n",
       "      <td>web</td>\n",
       "      <td>Tempe</td>\n",
       "      <td>AZ</td>\n",
       "    </tr>\n",
       "    <tr>\n",
       "      <th>lifelock</th>\n",
       "      <td>LifeLock</td>\n",
       "      <td>NaN</td>\n",
       "      <td>web</td>\n",
       "      <td>Tempe</td>\n",
       "      <td>AZ</td>\n",
       "    </tr>\n",
       "    <tr>\n",
       "      <th>lifelock</th>\n",
       "      <td>LifeLock</td>\n",
       "      <td>NaN</td>\n",
       "      <td>web</td>\n",
       "      <td>Tempe</td>\n",
       "      <td>AZ</td>\n",
       "    </tr>\n",
       "    <tr>\n",
       "      <th>mycityfaces</th>\n",
       "      <td>MyCityFaces</td>\n",
       "      <td>7.0</td>\n",
       "      <td>web</td>\n",
       "      <td>Scottsdale</td>\n",
       "      <td>AZ</td>\n",
       "    </tr>\n",
       "    <tr>\n",
       "      <th>flypaper</th>\n",
       "      <td>Flypaper</td>\n",
       "      <td>NaN</td>\n",
       "      <td>web</td>\n",
       "      <td>Phoenix</td>\n",
       "      <td>AZ</td>\n",
       "    </tr>\n",
       "    <tr>\n",
       "      <th>infusionsoft</th>\n",
       "      <td>Infusionsoft</td>\n",
       "      <td>105.0</td>\n",
       "      <td>software</td>\n",
       "      <td>Gilbert</td>\n",
       "      <td>AZ</td>\n",
       "    </tr>\n",
       "    <tr>\n",
       "      <th>gauto</th>\n",
       "      <td>gAuto</td>\n",
       "      <td>4.0</td>\n",
       "      <td>web</td>\n",
       "      <td>Scottsdale</td>\n",
       "      <td>AZ</td>\n",
       "    </tr>\n",
       "    <tr>\n",
       "      <th>chosenlist-com</th>\n",
       "      <td>ChosenList.com</td>\n",
       "      <td>5.0</td>\n",
       "      <td>web</td>\n",
       "      <td>Scottsdale</td>\n",
       "      <td>AZ</td>\n",
       "    </tr>\n",
       "    <tr>\n",
       "      <th>chosenlist-com</th>\n",
       "      <td>ChosenList.com</td>\n",
       "      <td>5.0</td>\n",
       "      <td>web</td>\n",
       "      <td>Scottsdale</td>\n",
       "      <td>AZ</td>\n",
       "    </tr>\n",
       "    <tr>\n",
       "      <th>digg</th>\n",
       "      <td>Digg</td>\n",
       "      <td>60.0</td>\n",
       "      <td>web</td>\n",
       "      <td>San Francisco</td>\n",
       "      <td>CA</td>\n",
       "    </tr>\n",
       "  </tbody>\n",
       "</table>\n",
       "</div>"
      ],
      "text/plain": [
       "                       company  numEmps  category           city state\n",
       "permalink                                                             \n",
       "lifelock              LifeLock      NaN       web          Tempe    AZ\n",
       "lifelock              LifeLock      NaN       web          Tempe    AZ\n",
       "lifelock              LifeLock      NaN       web          Tempe    AZ\n",
       "mycityfaces        MyCityFaces      7.0       web     Scottsdale    AZ\n",
       "flypaper              Flypaper      NaN       web        Phoenix    AZ\n",
       "infusionsoft      Infusionsoft    105.0  software        Gilbert    AZ\n",
       "gauto                    gAuto      4.0       web     Scottsdale    AZ\n",
       "chosenlist-com  ChosenList.com      5.0       web     Scottsdale    AZ\n",
       "chosenlist-com  ChosenList.com      5.0       web     Scottsdale    AZ\n",
       "digg                      Digg     60.0       web  San Francisco    CA"
      ]
     },
     "execution_count": 26,
     "metadata": {},
     "output_type": "execute_result"
    }
   ],
   "source": [
    "tc.iloc[0:10,0:5]"
   ]
  },
  {
   "cell_type": "code",
   "execution_count": null,
   "metadata": {},
   "outputs": [],
   "source": []
  },
  {
   "cell_type": "code",
   "execution_count": 35,
   "metadata": {
    "scrolled": true
   },
   "outputs": [
    {
     "data": {
      "text/html": [
       "<div>\n",
       "<style scoped>\n",
       "    .dataframe tbody tr th:only-of-type {\n",
       "        vertical-align: middle;\n",
       "    }\n",
       "\n",
       "    .dataframe tbody tr th {\n",
       "        vertical-align: top;\n",
       "    }\n",
       "\n",
       "    .dataframe thead th {\n",
       "        text-align: right;\n",
       "    }\n",
       "</style>\n",
       "<table border=\"1\" class=\"dataframe\">\n",
       "  <thead>\n",
       "    <tr style=\"text-align: right;\">\n",
       "      <th></th>\n",
       "      <th>round</th>\n",
       "      <th>company</th>\n",
       "      <th>raisedCurrency</th>\n",
       "      <th>raisedAmt</th>\n",
       "    </tr>\n",
       "    <tr>\n",
       "      <th>permalink</th>\n",
       "      <th></th>\n",
       "      <th></th>\n",
       "      <th></th>\n",
       "      <th></th>\n",
       "    </tr>\n",
       "  </thead>\n",
       "  <tbody>\n",
       "    <tr>\n",
       "      <th>tesla-motors</th>\n",
       "      <td>a</td>\n",
       "      <td>Tesla Motors</td>\n",
       "      <td>USD</td>\n",
       "      <td>7500000</td>\n",
       "    </tr>\n",
       "    <tr>\n",
       "      <th>tesla-motors</th>\n",
       "      <td>b</td>\n",
       "      <td>Tesla Motors</td>\n",
       "      <td>USD</td>\n",
       "      <td>13000000</td>\n",
       "    </tr>\n",
       "    <tr>\n",
       "      <th>tesla-motors</th>\n",
       "      <td>c</td>\n",
       "      <td>Tesla Motors</td>\n",
       "      <td>USD</td>\n",
       "      <td>40000000</td>\n",
       "    </tr>\n",
       "    <tr>\n",
       "      <th>tesla-motors</th>\n",
       "      <td>d</td>\n",
       "      <td>Tesla Motors</td>\n",
       "      <td>USD</td>\n",
       "      <td>45000000</td>\n",
       "    </tr>\n",
       "    <tr>\n",
       "      <th>tesla-motors</th>\n",
       "      <td>e</td>\n",
       "      <td>Tesla Motors</td>\n",
       "      <td>USD</td>\n",
       "      <td>40000000</td>\n",
       "    </tr>\n",
       "  </tbody>\n",
       "</table>\n",
       "</div>"
      ],
      "text/plain": [
       "             round       company raisedCurrency  raisedAmt\n",
       "permalink                                                 \n",
       "tesla-motors     a  Tesla Motors            USD    7500000\n",
       "tesla-motors     b  Tesla Motors            USD   13000000\n",
       "tesla-motors     c  Tesla Motors            USD   40000000\n",
       "tesla-motors     d  Tesla Motors            USD   45000000\n",
       "tesla-motors     e  Tesla Motors            USD   40000000"
      ]
     },
     "execution_count": 35,
     "metadata": {},
     "output_type": "execute_result"
    }
   ],
   "source": [
    "tc[(tc.company == 'Tesla Motors')].loc[:, ['round', 'company', 'raisedCurrency', 'raisedAmt']].tail().sort_values('round')"
   ]
  },
  {
   "cell_type": "code",
   "execution_count": null,
   "metadata": {},
   "outputs": [],
   "source": []
  }
 ],
 "metadata": {
  "kernelspec": {
   "display_name": "Python 3",
   "language": "python",
   "name": "python3"
  },
  "language_info": {
   "codemirror_mode": {
    "name": "ipython",
    "version": 3
   },
   "file_extension": ".py",
   "mimetype": "text/x-python",
   "name": "python",
   "nbconvert_exporter": "python",
   "pygments_lexer": "ipython3",
   "version": "3.7.3"
  },
  "varInspector": {
   "cols": {
    "lenName": 16,
    "lenType": 16,
    "lenVar": 40
   },
   "kernels_config": {
    "python": {
     "delete_cmd_postfix": "",
     "delete_cmd_prefix": "del ",
     "library": "var_list.py",
     "varRefreshCmd": "print(var_dic_list())"
    },
    "r": {
     "delete_cmd_postfix": ") ",
     "delete_cmd_prefix": "rm(",
     "library": "var_list.r",
     "varRefreshCmd": "cat(var_dic_list()) "
    }
   },
   "types_to_exclude": [
    "module",
    "function",
    "builtin_function_or_method",
    "instance",
    "_Feature"
   ],
   "window_display": false
  }
 },
 "nbformat": 4,
 "nbformat_minor": 2
}
