{
 "cells": [
  {
   "cell_type": "markdown",
   "metadata": {},
   "source": [
    "`clothing_review.csv` is a women’s clothing e-commerce dataset revolving around the reviews written by customers. \n",
    "\n",
    "This dataset includes 23,486 rows and 9 feature variables. Each row corresponds to a customer review, and includes the variables:\n",
    "\n",
    "- `clothing_id`: refers to the specific piece being reviewed.\n",
    "- `age_group`: categorical variable of the reviewers age group.\n",
    "- `review_text`: string variable for the title of the review.\n",
    "- `rating`: integer variable for the product score granted by the customer from 1 Worst, to 5 Best.\n",
    "- `recommended_ind`: binary variable stating where the customer recommends the product where 1 is recommended, 0 is not recommended.\n",
    "- `positive_feedback_count`: positive integer documenting the number of other customers who found this review positive.\n",
    "- `division_name`: categorical name of the product high level division.\n",
    "- `category`: categorical name of the product category.\n",
    "- `review_date`: date of the review added."
   ]
  },
  {
   "cell_type": "markdown",
   "metadata": {},
   "source": [
    "1. Q: Start by reading our dataset in, and save it under the name `review`.  Observe the basic information of our data. Do we need to pass `parse_dates` argument when we're reading our data?<br>A:"
   ]
  },
  {
   "cell_type": "code",
   "execution_count": 3,
   "metadata": {},
   "outputs": [],
   "source": [
    "# Your code here\n",
    "\n"
   ]
  },
  {
   "cell_type": "markdown",
   "metadata": {},
   "source": [
    "2. Q: Observe the data types of `review`. Is there any data type conversion needed? <br>A:"
   ]
  },
  {
   "cell_type": "code",
   "execution_count": 6,
   "metadata": {},
   "outputs": [],
   "source": [
    "# Your code here\n"
   ]
  },
  {
   "cell_type": "markdown",
   "metadata": {},
   "source": [
    "3. Q: How many reviews obtained by each clothing `category`? Which category has the highest total reviews?<br> A:"
   ]
  },
  {
   "cell_type": "code",
   "execution_count": 7,
   "metadata": {},
   "outputs": [],
   "source": [
    "# Your code here\n",
    "\n"
   ]
  },
  {
   "cell_type": "markdown",
   "metadata": {},
   "source": [
    "4. Q: Not everyone gives useful review. `positive_feedback_count` documents the number of other customers who found the review given is positive (give like instead of dislike). Among all reviewers age group, which age group tend to get the highest `positive_feedback_count`? <br> A:"
   ]
  },
  {
   "cell_type": "code",
   "execution_count": 9,
   "metadata": {},
   "outputs": [],
   "source": [
    "# Your code here\n",
    "\n"
   ]
  },
  {
   "cell_type": "markdown",
   "metadata": {},
   "source": [
    "5. Q: Does the customer from age group 18-24 y/o rates the \"Trend\" from \"General Petite\" division higher than the \"General\" one? How about their rates on Dresses? <br> A:"
   ]
  },
  {
   "cell_type": "code",
   "execution_count": 10,
   "metadata": {},
   "outputs": [],
   "source": [
    "# Your code here\n",
    "\n",
    "\n"
   ]
  }
 ],
 "metadata": {
  "kernelspec": {
   "display_name": "Python 3",
   "language": "python",
   "name": "python3"
  },
  "language_info": {
   "codemirror_mode": {
    "name": "ipython",
    "version": 3
   },
   "file_extension": ".py",
   "mimetype": "text/x-python",
   "name": "python",
   "nbconvert_exporter": "python",
   "pygments_lexer": "ipython3",
   "version": "3.7.3"
  },
  "latex_envs": {
   "LaTeX_envs_menu_present": true,
   "autoclose": false,
   "autocomplete": true,
   "bibliofile": "biblio.bib",
   "cite_by": "key",
   "current_citInitial": 1,
   "eqLabelWithNumbers": false,
   "eqNumInitial": 0,
   "hotkeys": {
    "equation": "Ctrl-E",
    "itemize": "Ctrl-I"
   },
   "labels_anchors": false,
   "latex_user_defs": false,
   "report_style_numbering": false,
   "user_envs_cfg": false
  },
  "toc": {
   "base_numbering": 1,
   "nav_menu": {},
   "number_sections": true,
   "sideBar": true,
   "skip_h1_title": false,
   "title_cell": "Table of Contents",
   "title_sidebar": "Contents",
   "toc_cell": false,
   "toc_position": {},
   "toc_section_display": true,
   "toc_window_display": false
  }
 },
 "nbformat": 4,
 "nbformat_minor": 2
}
